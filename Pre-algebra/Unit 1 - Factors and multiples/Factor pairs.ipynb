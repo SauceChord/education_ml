{
 "cells": [
  {
   "cell_type": "markdown",
   "id": "5e455dd3-1cfe-48ac-9d88-78a818a03c3d",
   "metadata": {},
   "source": [
    "# Factor Pair Algorithm Summary\n",
    "\n",
    "## Overview\n",
    "Developed an algorithm to identify all factor pairs of a given non-zero integer, inspired by the pre-algebra course from **Khan Academy**. The algorithm extends the concept of factor pairs to include negative numbers, ensuring comprehensive coverage across the integer spectrum.\n",
    "\n",
    "## Approach\n",
    "- **Test Driven Design (TDD)**: Initiated with unit testing, progressively evolving the `get_factor_pairs` function from specific cases to a generic solution.\n",
    "- **Refinement**: Focused on refining the function to handle edge cases, including fractional numbers and special float values (`nan`, `inf`), ensuring robust functionality.\n",
    "- **Simplification**: Improved the logic for negated factor pairs and early stopping to prevent duplicate pairs, enhancing the algorithm's efficiency and correctness.\n",
    "\n",
    "## Key Features\n",
    "- **Inclusivity of Negative Numbers**: Algorithm calculates factor pairs for both positive and negative integers, demonstrating an understanding of integer properties.\n",
    "- **Duplicate Prevention**: Implements a logic to stop once it encounters potential duplicates, optimizing the search process.\n",
    "- **Customizability**: Offers an option to exclude opposite pairs (e.g., `(-1, -1)`) through `include_opposites = False`, providing flexibility in output.\n",
    "\n",
    "## Insights\n",
    "- **Collaboration with ChatGPT**: Sought advice from ChatGPT for code optimization, leading to a simplified approach for detecting duplicate factor pairs using absolute values.\n",
    "- **Learning Application**: This project served as a practical application of pre-algebra concepts, reinforcing the learning objectives of the Khan Academy course.\n",
    "\n",
    "## Reflections\n",
    "Engaging with this algorithmic challenge proved to be a valuable exercise in applying theoretical knowledge to solve practical problems. It underscored the importance of understanding fundamental mathematics for programming and algorithm design. Future explorations might involve investigating alternative methods for factor pair identification, further broadening the applicability of pre-algebra concepts. In hindsight, finding the opposite factor pairs is a trivial task that can be done outside of the algorithm simply by multiplying factor pairs with -1 which could lead toward a cleaner solution of the problem. Potaetoes and potatoes."
   ]
  },
  {
   "cell_type": "code",
   "execution_count": 145,
   "id": "8c0ed617-6c48-4b32-8391-2680419d8f1e",
   "metadata": {},
   "outputs": [],
   "source": [
    "import numbers\n",
    "import numpy as np\n",
    "\n",
    "def get_factor_pairs(number, include_opposites=True):\n",
    "    # Validate input\n",
    "    if not isinstance(number, numbers.Number):\n",
    "        raise TypeError(\"The 'number' parameter must be a numeric type.\")\n",
    "    if number % 1 != 0 or number == 0:\n",
    "        raise ValueError(f\"The 'number' parameter must be a non-zero integer, received {number}.\")\n",
    "\n",
    "    direction = np.sign(number) # Determine iteration direction based on number sign\n",
    "    factor_pairs = []           # Store factor pairs, output of function\n",
    "\n",
    "    for potential_factor in range(direction, number + direction, direction):\n",
    "        corresponding_factor = number / potential_factor\n",
    "        \n",
    "        # Check if corresponding factor is an integer to determine if it's a valid factor pair\n",
    "        # (Khan looks for remainders, but this should be the same thing)\n",
    "        if corresponding_factor.is_integer():\n",
    "            factor_pairs.append((potential_factor, int(corresponding_factor))) # Pairs of 2 is (1, 2)\n",
    "            if include_opposites:                                              # Pairs of 2 is (-1, -2) also\n",
    "                factor_pairs.append((-potential_factor, -int(corresponding_factor))) \n",
    "\n",
    "        # Stop early for duplicate factor pairs\n",
    "        if abs(potential_factor + direction) >= abs(corresponding_factor):\n",
    "            break\n",
    "            \n",
    "    return factor_pairs"
   ]
  },
  {
   "cell_type": "code",
   "execution_count": 146,
   "id": "ea75d9c8-ccef-485d-8c6b-614bc5a391d9",
   "metadata": {},
   "outputs": [
    {
     "name": "stderr",
     "output_type": "stream",
     "text": [
      "..............\n",
      "----------------------------------------------------------------------\n",
      "Ran 14 tests in 0.004s\n",
      "\n",
      "OK\n"
     ]
    },
    {
     "data": {
      "text/plain": [
       "<unittest.main.TestProgram at 0x7f39ac3bb6d0>"
      ]
     },
     "execution_count": 146,
     "metadata": {},
     "output_type": "execute_result"
    }
   ],
   "source": [
    "import unittest\n",
    "        \n",
    "class TestGetFactorPairs(unittest.TestCase):\n",
    "    \n",
    "    def test_zero(self):\n",
    "        with self.assertRaises(ValueError):\n",
    "            get_factor_pairs(0)\n",
    "\n",
    "    def test_nan(self):\n",
    "        with self.assertRaises(ValueError):\n",
    "            get_factor_pairs(float(\"nan\"))\n",
    "\n",
    "    def test_positive_inf(self):\n",
    "        with self.assertRaises(ValueError):\n",
    "            get_factor_pairs(float(\"inf\"))\n",
    "\n",
    "    def test_negative_inf(self):\n",
    "        with self.assertRaises(ValueError):\n",
    "            get_factor_pairs(-float(\"inf\"))\n",
    "\n",
    "    def test_fraction(self):\n",
    "        with self.assertRaises(ValueError):\n",
    "            get_factor_pairs(0.1)\n",
    "\n",
    "    def test_non_numeric(self):\n",
    "        with self.assertRaises(TypeError):\n",
    "            get_factor_pairs(None)\n",
    "\n",
    "    def test_positives(self):\n",
    "        cases = [\n",
    "            (1, [(1, 1), (-1, -1)]),\n",
    "            (2, [(1, 2), (-1, -2)]),\n",
    "            (3, [(1, 3), (-1, -3)]),\n",
    "            (4, [(1, 4), (-1, -4), (2, 2), (-2, -2)]),\n",
    "            (5, [(1, 5), (-1, -5)]),\n",
    "            (6, [(1, 6), (-1, -6), (2, 3), (-2, -3)]),\n",
    "            (16, [(1, 16), (-1, -16), (2, 8), (-2, -8), (4, 4), (-4, -4)]),\n",
    "        ]\n",
    "        for number, expected in cases:\n",
    "            with self.subTest(number=number, expected=expected):\n",
    "                self.assertEqual(expected, get_factor_pairs(number))\n",
    "\n",
    "    def test_negatives(self):\n",
    "        cases = [\n",
    "            (-1, [(-1, 1), (1, -1)]),\n",
    "            (-2, [(-1, 2), (1, -2)]),\n",
    "            (-3, [(-1, 3), (1, -3)]),\n",
    "            (-4, [(-1, 4), (1, -4), (-2, 2), (2, -2)]),\n",
    "            (-5, [(-1, 5), (1, -5)]),\n",
    "            (-6, [(-1, 6), (1, -6), (-2, 3), (2, -3)]),\n",
    "            (-16, [(-1, 16), (1, -16), (-2, 8), (2, -8), (-4, 4), (4, -4)]),\n",
    "        ]\n",
    "        for number, expected in cases:\n",
    "            with self.subTest(number=number, expected=expected):\n",
    "                self.assertEqual(expected, get_factor_pairs(number))\n",
    "\n",
    "    def test_exclude_opposites(self):\n",
    "        cases = [\n",
    "            (16, [(1, 16), (2, 8), (4, 4)]),\n",
    "            (-16, [(-1, 16), (-2, 8), (-4, 4)]),\n",
    "        ]\n",
    "        for number, expected in cases:\n",
    "            with self.subTest(number=number, expected=expected):\n",
    "                self.assertEqual(expected, get_factor_pairs(number, include_opposites=False))\n",
    "\n",
    "# Run the tests\n",
    "unittest.main(argv=[''], exit=False)"
   ]
  },
  {
   "cell_type": "code",
   "execution_count": 147,
   "id": "e4d31e32-3d23-49c3-b0aa-6abcb14df54b",
   "metadata": {},
   "outputs": [
    {
     "data": {
      "text/plain": [
       "[(1, 1337), (7, 191)]"
      ]
     },
     "execution_count": 147,
     "metadata": {},
     "output_type": "execute_result"
    }
   ],
   "source": [
    "get_factor_pairs(1337, False)"
   ]
  }
 ],
 "metadata": {
  "kernelspec": {
   "display_name": "Python 3 (ipykernel)",
   "language": "python",
   "name": "python3"
  },
  "language_info": {
   "codemirror_mode": {
    "name": "ipython",
    "version": 3
   },
   "file_extension": ".py",
   "mimetype": "text/x-python",
   "name": "python",
   "nbconvert_exporter": "python",
   "pygments_lexer": "ipython3",
   "version": "3.11.8"
  }
 },
 "nbformat": 4,
 "nbformat_minor": 5
}
